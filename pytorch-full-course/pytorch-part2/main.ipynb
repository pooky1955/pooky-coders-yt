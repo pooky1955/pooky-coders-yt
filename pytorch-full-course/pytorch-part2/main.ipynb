{
 "cells": [
  {
   "cell_type": "code",
   "execution_count": 1,
   "metadata": {},
   "outputs": [
    {
     "data": {
      "text/plain": [
       "'1.10.0'"
      ]
     },
     "execution_count": 1,
     "metadata": {},
     "output_type": "execute_result"
    }
   ],
   "source": [
    "import torch\n",
    "torch.__version__"
   ]
  },
  {
   "cell_type": "code",
   "execution_count": 2,
   "metadata": {},
   "outputs": [
    {
     "data": {
      "text/plain": [
       "True"
      ]
     },
     "execution_count": 2,
     "metadata": {},
     "output_type": "execute_result"
    }
   ],
   "source": [
    "torch.cuda.is_available()"
   ]
  },
  {
   "cell_type": "code",
   "execution_count": 19,
   "metadata": {},
   "outputs": [],
   "source": [
    "import numpy as np\n",
    "from torch import Tensor\n",
    "Xs = Tensor(np.array([[0,1],[1,0],[1,1],[0,0]]))\n",
    "Ys = Tensor(np.array([[1],[1],[0],[0]]))"
   ]
  },
  {
   "cell_type": "code",
   "execution_count": 38,
   "metadata": {},
   "outputs": [],
   "source": [
    "from torch import nn\n",
    "from torch.optim import Adam\n",
    "class XORModel(nn.Module):\n",
    "    def __init__(self):\n",
    "        super().__init__()\n",
    "        self.layers = nn.Sequential(\n",
    "            nn.Linear(2,2),\n",
    "            nn.Sigmoid(),\n",
    "            nn.Linear(2,1),\n",
    "            nn.Sigmoid()\n",
    "        )\n",
    "        self.optimizer = Adam(self.parameters())\n",
    "        self.loss = nn.MSELoss()\n",
    "        \n",
    "    def forward(self,X):\n",
    "        return self.layers(X)\n",
    "    \n",
    "    def fit(self,X,y_true):\n",
    "        self.optimizer.zero_grad()\n",
    "        y_pred = self.forward(X)\n",
    "        loss = self.loss(y_true,y_pred)\n",
    "        loss.backward()\n",
    "        self.optimizer.step()\n",
    "        return loss.item()"
   ]
  },
  {
   "cell_type": "code",
   "execution_count": 39,
   "metadata": {},
   "outputs": [],
   "source": [
    "xor_model = XORModel()"
   ]
  },
  {
   "cell_type": "code",
   "execution_count": 43,
   "metadata": {},
   "outputs": [
    {
     "data": {
      "text/plain": [
       "tensor([[0.9900],\n",
       "        [0.0116],\n",
       "        [0.9883],\n",
       "        [0.0116]], grad_fn=<SigmoidBackward0>)"
      ]
     },
     "execution_count": 43,
     "metadata": {},
     "output_type": "execute_result"
    }
   ],
   "source": [
    "xor_model(Xs)"
   ]
  },
  {
   "cell_type": "code",
   "execution_count": 42,
   "metadata": {},
   "outputs": [
    {
     "name": "stdout",
     "output_type": "stream",
     "text": [
      "0.1472044587135315\n",
      "0.049493201076984406\n",
      "0.0178406722843647\n",
      "0.007720730267465115\n",
      "0.0037732752971351147\n",
      "0.0019867648370563984\n",
      "0.0010962621308863163\n",
      "0.0006236765766516328\n",
      "0.0003622271178755909\n",
      "0.00021344015840440989\n"
     ]
    }
   ],
   "source": [
    "EPOCHS = 10000\n",
    "for i in range(EPOCHS):\n",
    "    loss = xor_model.fit(Xs,Ys)\n",
    "    if i % 1000 == 0:\n",
    "        print(loss)"
   ]
  },
  {
   "cell_type": "code",
   "execution_count": null,
   "metadata": {},
   "outputs": [],
   "source": []
  }
 ],
 "metadata": {
  "interpreter": {
   "hash": "49d7d87b1f6c974eabb0e79505834435a10b90743e198bea7c3da7168c2127df"
  },
  "kernelspec": {
   "display_name": "Python 3 (ipykernel)",
   "language": "python",
   "name": "python3"
  },
  "language_info": {
   "codemirror_mode": {
    "name": "ipython",
    "version": 3
   },
   "file_extension": ".py",
   "mimetype": "text/x-python",
   "name": "python",
   "nbconvert_exporter": "python",
   "pygments_lexer": "ipython3",
   "version": "3.8.12"
  }
 },
 "nbformat": 4,
 "nbformat_minor": 4
}
